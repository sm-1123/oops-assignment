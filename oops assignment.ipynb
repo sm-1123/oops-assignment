{
 "cells": [
  {
   "cell_type": "code",
   "execution_count": 1,
   "id": "87a513aa-1a79-4913-832d-2aa08a3da475",
   "metadata": {},
   "outputs": [],
   "source": [
    "#Q1. Explain Class and Object with respect to Object-Oriented Programming. Give a suitable example."
   ]
  },
  {
   "cell_type": "code",
   "execution_count": 2,
   "id": "939ecb70-cea9-4b29-af3c-c1c01e8d18eb",
   "metadata": {},
   "outputs": [
    {
     "data": {
      "text/plain": [
       "' In object-oriented programming (OOP), a class is a blueprint or template for creating objects. It defines the properties (attributes) and behaviors (methods) that objects of that class will have. In simpler terms, a class is a way to define a new data type.\\n\\nAn object, on the other hand, is an instance of a class. It is a concrete representation of the class, created using the blueprint provided by the class. An object has its own unique set of attributes and can perform actions or operations defined by the class\\'s methods.\\n\\nLet\\'s take an example to illustrate this concept:\\n\\nClass: Car\\n\\nAttributes (properties):\\n\\nModel (e.g., \"Toyota Camry\")\\nColor (e.g., \"Blue\")\\nYear (e.g., 2022)\\nMileage (e.g., 10,000)\\nMethods (behaviors):\\n\\nStart() - starts the car\\'s engine\\nAccelerate() - increases the car\\'s speed\\nBrake() - applies the car\\'s brakes\\nGetMileage() - retrieves the current mileage of the car\\nIn this example, \"Car\" is the class. It defines the blueprint for creating car objects. The attributes (model, color, year, mileage) represent the state of each car object. The methods (start, accelerate, brake, getMileage) define the behavior or actions that car objects can perform.\\n\\nNow, we can create individual car objects from this class:\\n\\nObject 1:\\n\\nModel: \"Toyota Camry\"\\nColor: \"Blue\"\\nYear: 2022\\nMileage: 10,000\\nObject 2:\\n\\nModel: \"Honda Civic\"\\nColor: \"Red\"\\nYear: 2021\\nMileage: 8,500\\nEach object is an instance of the \"Car\" class, with its own unique set of attributes. For example, Object 1 represents a specific Toyota Camry car with its own color, year, and mileage. Object 2 represents a Honda Civic with its own distinct properties.\\n\\nYou can then perform actions on these objects using the methods defined in the class. For instance, you can start Object 1 by calling its Start() method or retrieve its mileage using the GetMileage() method.\\n\\nBy using classes and objects, you can create reusable code structures and model real-world entities with their own state and behavior, making it easier to manage and interact with data in your programs. '"
      ]
     },
     "execution_count": 2,
     "metadata": {},
     "output_type": "execute_result"
    }
   ],
   "source": [
    "''' In object-oriented programming (OOP), a class is a blueprint or template for creating objects. It defines the properties (attributes) and behaviors (methods) that objects of that class will have. In simpler terms, a class is a way to define a new data type.\n",
    "\n",
    "An object, on the other hand, is an instance of a class. It is a concrete representation of the class, created using the blueprint provided by the class. An object has its own unique set of attributes and can perform actions or operations defined by the class's methods.\n",
    "\n",
    "Let's take an example to illustrate this concept:\n",
    "\n",
    "Class: Car\n",
    "\n",
    "Attributes (properties):\n",
    "\n",
    "Model (e.g., \"Toyota Camry\")\n",
    "Color (e.g., \"Blue\")\n",
    "Year (e.g., 2022)\n",
    "Mileage (e.g., 10,000)\n",
    "Methods (behaviors):\n",
    "\n",
    "Start() - starts the car's engine\n",
    "Accelerate() - increases the car's speed\n",
    "Brake() - applies the car's brakes\n",
    "GetMileage() - retrieves the current mileage of the car\n",
    "In this example, \"Car\" is the class. It defines the blueprint for creating car objects. The attributes (model, color, year, mileage) represent the state of each car object. The methods (start, accelerate, brake, getMileage) define the behavior or actions that car objects can perform.\n",
    "\n",
    "Now, we can create individual car objects from this class:\n",
    "\n",
    "Object 1:\n",
    "\n",
    "Model: \"Toyota Camry\"\n",
    "Color: \"Blue\"\n",
    "Year: 2022\n",
    "Mileage: 10,000\n",
    "Object 2:\n",
    "\n",
    "Model: \"Honda Civic\"\n",
    "Color: \"Red\"\n",
    "Year: 2021\n",
    "Mileage: 8,500\n",
    "Each object is an instance of the \"Car\" class, with its own unique set of attributes. For example, Object 1 represents a specific Toyota Camry car with its own color, year, and mileage. Object 2 represents a Honda Civic with its own distinct properties.\n",
    "\n",
    "You can then perform actions on these objects using the methods defined in the class. For instance, you can start Object 1 by calling its Start() method or retrieve its mileage using the GetMileage() method.\n",
    "\n",
    "By using classes and objects, you can create reusable code structures and model real-world entities with their own state and behavior, making it easier to manage and interact with data in your programs. '''"
   ]
  },
  {
   "cell_type": "code",
   "execution_count": 3,
   "id": "46bc3bc7-733c-4aaf-8466-e81f73cb1098",
   "metadata": {},
   "outputs": [],
   "source": [
    "#Q2. Name the four pillars of OOPs."
   ]
  },
  {
   "cell_type": "code",
   "execution_count": 5,
   "id": "ac41670c-fd45-458d-a119-e435cc4b12ec",
   "metadata": {},
   "outputs": [
    {
     "data": {
      "text/plain": [
       "'1.Encapsulation\\n2.Inheritance\\n3.Polymorphism\\n4.Abstraction\\n'"
      ]
     },
     "execution_count": 5,
     "metadata": {},
     "output_type": "execute_result"
    }
   ],
   "source": [
    "'''1.Encapsulation\n",
    "2.Inheritance\n",
    "3.Polymorphism\n",
    "4.Abstraction\n",
    "'''"
   ]
  },
  {
   "cell_type": "code",
   "execution_count": 6,
   "id": "23301b49-f945-4f01-82c0-039ee6d413b2",
   "metadata": {},
   "outputs": [],
   "source": [
    "#Q3. Explain why the __init__() function is used. Give a suitable example."
   ]
  },
  {
   "cell_type": "code",
   "execution_count": 7,
   "id": "d4318673-80e7-4d47-b750-57b245e0762c",
   "metadata": {},
   "outputs": [
    {
     "data": {
      "text/plain": [
       "' In object-oriented programming (OOP), the __init__() function, also known as the constructor, is used to initialize the attributes or properties of an object when it is created from a class. It is automatically called when a new instance of a class is created. The purpose of the __init__() function is to set the initial state of the object by assigning values to its attributes.\\n\\nHere\\'s an example to illustrate the usage of the __init__() function:\\n\\npython\\nCopy code\\nclass Car:\\n    def __init__(self, model, color, year):\\n        self.model = model\\n        self.color = color\\n        self.year = year\\n        self.mileage = 0\\n    \\n    def start(self):\\n        print(f\"The {self.color} {self.model} has started.\")\\n\\n    def drive(self, distance):\\n        self.mileage += distance\\n        print(f\"The {self.color} {self.model} has driven {distance} miles.\")\\n\\n# Creating an instance of the Car class\\nmy_car = Car(\"Toyota Camry\", \"Blue\", 2022)\\n\\n# Accessing the attributes of the object\\nprint(my_car.model)   # Output: Toyota Camry\\nprint(my_car.color)   # Output: Blue\\nprint(my_car.year)    # Output: 2022\\nprint(my_car.mileage) # Output: 0\\n\\n# Calling methods on the object\\nmy_car.start()           # Output: The Blue Toyota Camry has started.\\nmy_car.drive(100)        # Output: The Blue Toyota Camry has driven 100 miles.\\nprint(my_car.mileage)    # Output: 100\\nIn this example, the Car class has an __init__() function that takes in three parameters: model, color, and year. Inside the __init__() function, these parameters are used to initialize the corresponding attributes of the object (self.model, self.color, and self.year). Additionally, the mileage attribute is also initialized to 0.\\n\\nWhen creating an instance of the Car class (my_car = Car(\"Toyota Camry\", \"Blue\", 2022)), the __init__() function is automatically called with the provided values, initializing the object\\'s attributes. We can then access these attributes (my_car.model, my_car.color, my_car.year, my_car.mileage) and perform operations on the object (my_car.start(), my_car.drive(100)).\\n\\nThe __init__() function allows us to set the initial state of the object and ensure that the necessary attributes are properly initi'"
      ]
     },
     "execution_count": 7,
     "metadata": {},
     "output_type": "execute_result"
    }
   ],
   "source": [
    "''' In object-oriented programming (OOP), the __init__() function, also known as the constructor, is used to initialize the attributes or properties of an object when it is created from a class. It is automatically called when a new instance of a class is created. The purpose of the __init__() function is to set the initial state of the object by assigning values to its attributes.\n",
    "\n",
    "Here's an example to illustrate the usage of the __init__() function:\n",
    "\n",
   
    
    "class Car:\n",
    "    def __init__(self, model, color, year):\n",
    "        self.model = model\n",
    "        self.color = color\n",
    "        self.year = year\n",
    "        self.mileage = 0\n",
    "    \n",
    "    def start(self):\n",
    "        print(f\"The {self.color} {self.model} has started.\")\n",
    "\n",
    "    def drive(self, distance):\n",
    "        self.mileage += distance\n",
    "        print(f\"The {self.color} {self.model} has driven {distance} miles.\")\n",
    "\n",
    "# Creating an instance of the Car class\n",
    "my_car = Car(\"Toyota Camry\", \"Blue\", 2022)\n",
    "\n",
    "# Accessing the attributes of the object\n",
    "print(my_car.model)   # Output: Toyota Camry\n",
    "print(my_car.color)   # Output: Blue\n",
    "print(my_car.year)    # Output: 2022\n",
    "print(my_car.mileage) # Output: 0\n",
    "\n",
    "# Calling methods on the object\n",
    "my_car.start()           # Output: The Blue Toyota Camry has started.\n",
    "my_car.drive(100)        # Output: The Blue Toyota Camry has driven 100 miles.\n",
    "print(my_car.mileage)    # Output: 100\n",
    "In this example, the Car class has an __init__() function that takes in three parameters: model, color, and year. Inside the __init__() function, these parameters are used to initialize the corresponding attributes of the object (self.model, self.color, and self.year). Additionally, the mileage attribute is also initialized to 0.\n",
    "\n",
    "When creating an instance of the Car class (my_car = Car(\"Toyota Camry\", \"Blue\", 2022)), the __init__() function is automatically called with the provided values, initializing the object's attributes. We can then access these attributes (my_car.model, my_car.color, my_car.year, my_car.mileage) and perform operations on the object (my_car.start(), my_car.drive(100)).\n",
    "\n",
    "The __init__() function allows us to set the initial state of the object and ensure that the necessary attributes are properly initi'''"
   ]
  },
  {
   "cell_type": "code",
   "execution_count": 8,
   "id": "c93de3ed-9c74-4715-b260-c4e211236bfd",
   "metadata": {},
   "outputs": [],
   "source": [
    "#Q4. Why self is used in OOPs?"
   ]
  },
  {
   "cell_type": "code",
   "execution_count": 9,
   "id": "cbbe8f73-dee8-49e1-bf9f-afc2052e5a4b",
   "metadata": {},
   "outputs": [
    {
     "data": {
      "text/plain": [
       "\" In object-oriented programming (OOP), the self keyword is used as a convention to refer to the instance of a class within the class methods. It represents the object on which the method is being called. The self parameter is typically the first parameter in class method definitions.\\n\\nHere are the reasons why self is used in OOP:\\n\\nObject Referencing: The self parameter allows methods to refer to the specific instance of the class on which they are called. It provides a way for methods to access and manipulate the attributes and behaviors of the object itself. By using self, the method knows which instance's attributes to access and modify.\\n\\nDifferentiating Instance Attributes: In a class, there can be instance attributes and class attributes. Instance attributes are specific to each instance of the class, while class attributes are shared among all instances of the class. By using self, we can differentiate and access the instance attributes. For example, self.attribute_name refers to an instance attribute.\\n\\nMethod Invocation: When a method is called on an object, the object itself is automatically passed as the self argument to the method. This allows the method to operate on the specific instance's attributes and behaviors. It ensures that the method has access to the relevant instance's data.\\n\\nClarity and Convention: Using self as the first parameter in method definitions is a convention in Python and many other OOP languages. It helps in readability and clarity, making it clear that the method is intended to be called on an instance of the class. It also distinguishes instance methods from \""
      ]
     },
     "execution_count": 9,
     "metadata": {},
     "output_type": "execute_result"
    }
   ],
   "source": [
    "''' In object-oriented programming (OOP), the self keyword is used as a convention to refer to the instance of a class within the class methods. It represents the object on which the method is being called. The self parameter is typically the first parameter in class method definitions.\n",
    "\n",
    "Here are the reasons why self is used in OOP:\n",
    "\n",
    "Object Referencing: The self parameter allows methods to refer to the specific instance of the class on which they are called. It provides a way for methods to access and manipulate the attributes and behaviors of the object itself. By using self, the method knows which instance's attributes to access and modify.\n",
    "\n",
    "Differentiating Instance Attributes: In a class, there can be instance attributes and class attributes. Instance attributes are specific to each instance of the class, while class attributes are shared among all instances of the class. By using self, we can differentiate and access the instance attributes. For example, self.attribute_name refers to an instance attribute.\n",
    "\n",
    "Method Invocation: When a method is called on an object, the object itself is automatically passed as the self argument to the method. This allows the method to operate on the specific instance's attributes and behaviors. It ensures that the method has access to the relevant instance's data.\n",
    "\n",
    "Clarity and Convention: Using self as the first parameter in method definitions is a convention in Python and many other OOP languages. It helps in readability and clarity, making it clear that the method is intended to be called on an instance of the class. It also distinguishes instance methods from '''"
   ]
  },
  {
   "cell_type": "code",
   "execution_count": 10,
   "id": "b20b13d8-6cfb-459d-bfe2-fb86c5f7f967",
   "metadata": {},
   "outputs": [],
   "source": [
    "#Q5. What is inheritance? Give an example for each type of inheritance."
   ]
  },
  {
   "cell_type": "code",
   "execution_count": 11,
   "id": "09733a87-93f2-4c2f-8664-8db45c186a0b",
   "metadata": {},
   "outputs": [
    {
     "data": {
      "text/plain": [
       "' Inheritance is a fundamental concept in object-oriented programming (OOP) that allows one class (called the child or derived class) to inherit properties and behaviors from another class (called the parent or base class). The child class can reuse the attributes and methods of the parent class and can also add its own specific attributes and methods or override the inherited ones.\\n\\nThere are several types of inheritance, including:\\n\\nSingle Inheritance: In single inheritance, a child class inherits from a single parent class. It forms a one-to-one relationship between the child and parent class.\\nExample:\\n\\npython\\nCopy code\\nclass Animal:\\n    def eat(self):\\n        print(\"Animal is eating.\")\\n\\nclass Dog(Animal):\\n    def bark(self):\\n        print(\"Dog is barking.\")\\n\\ndog = Dog()\\ndog.eat()  # Output: Animal is eating.\\ndog.bark() # Output: Dog is barking.\\nIn this example, the Dog class inherits from the Animal class using single inheritance. The Dog class inherits the eat() method from the Animal class, and it also defines its own bark() method.\\n\\nMultiple Inheritance: In multiple inheritance, a child class inherits from multiple parent classes. It allows a class to inherit attributes and methods from more than one class.\\nExample:\\n\\npython\\nCopy code\\nclass Vehicle:\\n    def move(self):\\n        print(\"Vehicle is moving.\")\\n\\nclass Flyable:\\n    def fly(self):\\n        print(\"Flying.\")\\n\\nclass Car(Vehicle, Flyable):\\n    def honk(self):\\n        print(\"Honking.\")\\n\\ncar = Car()\\ncar.move() # Output: Vehicle is moving.\\ncar.fly()  # Output: Flying.\\ncar.honk() # Output: Honking.\\nIn this example, the Car class inherits from both the Vehicle and Flyable classes using multiple inheritance. The Car class inherits the move() method from the Vehicle class and the fly() method from the Flyable class. It also defines its own honk() method.\\n\\nMultilevel Inheritance: In multilevel inheritance, a child class inherits from another child class, forming a hierarchical relationship.\\nExample:\\n\\npython\\nCopy code\\nclass Animal:\\n    def eat(self):\\n        print(\"Animal is eating.\")\\n\\nclass Dog(Animal):\\n    def bark(self):\\n        print(\"Dog is barking.\")\\n\\nclass Bulldog(Dog):\\n    def guard(self):\\n        print(\"Bulldog is guarding.\")\\n\\nbulldog = Bulldog()\\nbulldog.eat()   # Output: Animal is eating.\\nbulldog.bark()  # Output: Dog is barking.\\nbulldog.guard() # Output: Bulldog is guarding.\\nIn this example, the Bulldog class inherits from the Dog class, which in turn inherits from the Animal class. The Bulldog class inherits the eat() method from the Animal class, the bark() method from the Dog class, and it also defines its own guard() method.\\n\\nThese examples demonstrate different types of inheritance in Python. Each type of inheritance allows for code reuse, modularity, and promotes the concept of hierarchy in object-oriented programming.'"
      ]
     },
     "execution_count": 11,
     "metadata": {},
     "output_type": "execute_result"
    }
   ],
   "source": [
    "''' Inheritance is a fundamental concept in object-oriented programming (OOP) that allows one class (called the child or derived class) to inherit properties and behaviors from another class (called the parent or base class). The child class can reuse the attributes and methods of the parent class and can also add its own specific attributes and methods or override the inherited ones.\n",
    "\n",
    "There are several types of inheritance, including:\n",
    "\n",
    "Single Inheritance: In single inheritance, a child class inherits from a single parent class. It forms a one-to-one relationship between the child and parent class.\n",
    "Example:\n",
    "\n",
    
    
    "class Animal:\n",
    "    def eat(self):\n",
    "        print(\"Animal is eating.\")\n",
    "\n",
    "class Dog(Animal):\n",
    "    def bark(self):\n",
    "        print(\"Dog is barking.\")\n",
    "\n",
    "dog = Dog()\n",
    "dog.eat()  # Output: Animal is eating.\n",
    "dog.bark() # Output: Dog is barking.\n",
    "In this example, the Dog class inherits from the Animal class using single inheritance. The Dog class inherits the eat() method from the Animal class, and it also defines its own bark() method.\n",
    "\n",
    "Multiple Inheritance: In multiple inheritance, a child class inherits from multiple parent classes. It allows a class to inherit attributes and methods from more than one class.\n",
    "Example:\n",
    "\n",
    
    "class Vehicle:\n",
    "    def move(self):\n",
    "        print(\"Vehicle is moving.\")\n",
    "\n",
    "class Flyable:\n",
    "    def fly(self):\n",
    "        print(\"Flying.\")\n",
    "\n",
    "class Car(Vehicle, Flyable):\n",
    "    def honk(self):\n",
    "        print(\"Honking.\")\n",
    "\n",
    "car = Car()\n",
    "car.move() # Output: Vehicle is moving.\n",
    "car.fly()  # Output: Flying.\n",
    "car.honk() # Output: Honking.\n",
    "In this example, the Car class inherits from both the Vehicle and Flyable classes using multiple inheritance. The Car class inherits the move() method from the Vehicle class and the fly() method from the Flyable class. It also defines its own honk() method.\n",
    "\n",
    "Multilevel Inheritance: In multilevel inheritance, a child class inherits from another child class, forming a hierarchical relationship.\n",
    "Example:\n",
    "\n",
   
    "class Animal:\n",
    "    def eat(self):\n",
    "        print(\"Animal is eating.\")\n",
    "\n",
    "class Dog(Animal):\n",
    "    def bark(self):\n",
    "        print(\"Dog is barking.\")\n",
    "\n",
    "class Bulldog(Dog):\n",
    "    def guard(self):\n",
    "        print(\"Bulldog is guarding.\")\n",
    "\n",
    "bulldog = Bulldog()\n",
    "bulldog.eat()   # Output: Animal is eating.\n",
    "bulldog.bark()  # Output: Dog is barking.\n",
    "bulldog.guard() # Output: Bulldog is guarding.\n",
    "In this example, the Bulldog class inherits from the Dog class, which in turn inherits from the Animal class. The Bulldog class inherits the eat() method from the Animal class, the bark() method from the Dog class, and it also defines its own guard() method.\n",
    "\n",
    "These examples demonstrate different types of inheritance in Python. Each type of inheritance allows for code reuse, modularity, and promotes the concept of hierarchy in object-oriented programming.'''"
   ]
  },
  {
   "cell_type": "code",
   "execution_count": null,
   "id": "e3d5e476-10f0-41a5-a3bc-397d0c1ce355",
   "metadata": {},
   "outputs": [],
   "source": []
  }
 ],
 "metadata": {
  "kernelspec": {
   "display_name": "Python 3 (ipykernel)",
   "language": "python",
   "name": "python3"
  },
  "language_info": {
   "codemirror_mode": {
    "name": "ipython",
    "version": 3
   },
   "file_extension": ".py",
   "mimetype": "text/x-python",
   "name": "python",
   "nbconvert_exporter": "python",
   "pygments_lexer": "ipython3",
   "version": "3.10.8"
  }
 },
 "nbformat": 4,
 "nbformat_minor": 5
}
